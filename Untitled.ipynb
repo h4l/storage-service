{
 "cells": [
  {
   "cell_type": "code",
   "execution_count": 1,
   "metadata": {},
   "outputs": [],
   "source": [
    "import os\n",
    "\n",
    "def get_file_paths_under(root):\n",
    "    \"\"\"Generates the paths to every file under ``root``.\"\"\"\n",
    "    if not os.path.isdir(root):\n",
    "        raise ValueError(f\"Cannot find files under non-existent directory: {root!r}\")\n",
    "\n",
    "    for dirpath, _, filenames in os.walk(root):\n",
    "        for f in filenames:\n",
    "            if os.path.isfile(os.path.join(dirpath, f)):\n",
    "                yield os.path.join(dirpath, f)"
   ]
  },
  {
   "cell_type": "code",
   "execution_count": 2,
   "metadata": {},
   "outputs": [
    {
     "name": "stdout",
     "output_type": "stream",
     "text": [
      "./ingests/ingests_worker/src/test/scala/uk/ac/wellcome/platform/storage/ingests_worker/IngestsWorkerIntegrationTest.scala\n"
     ]
    }
   ],
   "source": [
    "for f in tqdm.tqdm(get_file_paths_under(\".\")):\n",
    "    if not f.endswith(\".scala\") or \"target\" in f:\n",
    "        continue\n",
    "    \n",
    "    old_contents = open(f).read()\n",
    "    new_contents = old_contents.replace(\"uk.ac.wellcome.platform.archive.common\", \"weco.storage\")\n",
    "    \n",
    "    if new_contents != old_contents:\n",
    "        with open(f, \"w\") as outfile:\n",
    "            outfile.write(new_contents)"
   ]
  },
  {
   "cell_type": "code",
   "execution_count": null,
   "metadata": {},
   "outputs": [],
   "source": []
  }
 ],
 "metadata": {
  "kernelspec": {
   "display_name": "Python 3",
   "language": "python",
   "name": "python3"
  },
  "language_info": {
   "codemirror_mode": {
    "name": "ipython",
    "version": 3
   },
   "file_extension": ".py",
   "mimetype": "text/x-python",
   "name": "python",
   "nbconvert_exporter": "python",
   "pygments_lexer": "ipython3",
   "version": "3.9.4"
  }
 },
 "nbformat": 4,
 "nbformat_minor": 4
}
